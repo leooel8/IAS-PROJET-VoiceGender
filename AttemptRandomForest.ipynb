{
 "cells": [
  {
   "cell_type": "code",
   "execution_count": 1,
   "metadata": {},
   "outputs": [],
   "source": [
    "from sklearn.tree import DecisionTreeClassifier\n",
    "import pandas as pd\n",
    "import numpy as np"
   ]
  },
  {
   "cell_type": "code",
   "execution_count": 121,
   "metadata": {},
   "outputs": [],
   "source": [
    "class RandomForest():\n",
    "    def __init__(self,\n",
    "                 n_estimators=100,\n",
    "                 max_depth=None,\n",
    "                 max_leaf_nodes=None,\n",
    "                 min_samples_leaf=1, \n",
    "                 min_samples_split=2, \n",
    "                 random_state=None\n",
    "                ):\n",
    "        self.estimators = [DecisionTreeClassifier(max_depth=max_depth,\n",
    "                                             max_leaf_nodes=max_leaf_nodes,\n",
    "                                             min_samples_leaf=min_samples_leaf,\n",
    "                                             min_samples_split=min_samples_split\n",
    "                                            ) for i in range(n_estimators)\n",
    "                          ]\n",
    "        self.classes = []\n",
    "    \n",
    "    def fit(self, X, y):\n",
    "        X1 = np.array(X.copy())\n",
    "        y1 = np.array(y.copy())\n",
    "        n = len(self.estimators)\n",
    "        N = X1.shape[0]\n",
    "        for (i, estimator) in enumerate(self.estimators):\n",
    "            begin = int(i*N/n)\n",
    "            end = int((i+1)*N/n) if i == n-1 else N\n",
    "            X_  = X1[begin:end]\n",
    "            y_ = y1[begin:end]\n",
    "            estimator.fit(X_, y_)\n",
    "            \n",
    "        for i in y1:\n",
    "            b = True\n",
    "            for j in self.classes:\n",
    "                b = b and i != j\n",
    "                if not(b) : break\n",
    "            if b : self.classes.append(i)\n",
    "    \n",
    "    def predict(self, X):\n",
    "        X1 = np.array(X)\n",
    "        predictions = []\n",
    "        for i in range(X1.shape[0]):\n",
    "            x = np.array([X1[i]])\n",
    "            xpreds = [estimator.predict(x) for estimator in self.estimators]\n",
    "            occs = [xpreds.count(k) for k in self.classes]\n",
    "            predictions.append(self.classes[np.argmax(occs)])\n",
    "        return np.array(predictions) if len(X.shape)>1 else predictions[0]\n",
    "    \n",
    "    def score(self, X, y):\n",
    "        y1 = np.array(y)\n",
    "        y_pred = self.predict(X)\n",
    "        error = np.array([1 if y1[i] == y_pred[i] else 0 for i in range(y1.size)])\n",
    "        return error.sum()/error.size\n",
    "    "
   ]
  }
 ],
 "metadata": {
  "kernelspec": {
   "display_name": "Python 3",
   "language": "python",
   "name": "python3"
  },
  "language_info": {
   "codemirror_mode": {
    "name": "ipython",
    "version": 3
   },
   "file_extension": ".py",
   "mimetype": "text/x-python",
   "name": "python",
   "nbconvert_exporter": "python",
   "pygments_lexer": "ipython3",
   "version": "3.8.3"
  }
 },
 "nbformat": 4,
 "nbformat_minor": 4
}
